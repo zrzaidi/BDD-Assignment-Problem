{
 "cells": [
  {
   "cell_type": "code",
   "execution_count": 1,
   "metadata": {},
   "outputs": [],
   "source": [
    "from hungarian import *\n",
    "from generate_cost_matrix_from_user_input import *\n",
    "from matrix_adjust import *\n",
    "from output_assignment_list import *"
   ]
  },
  {
   "cell_type": "markdown",
   "metadata": {},
   "source": [
    "Enter number of residents to be assigned to a hospital.\n",
    "\n",
    "Enter names of hospitals with their respective capacities.\n",
    "\n",
    "Enter the name of each resident and their ranking of each hospital in order."
   ]
  },
  {
   "cell_type": "code",
   "execution_count": 2,
   "metadata": {},
   "outputs": [
    {
     "name": "stdout",
     "output_type": "stream",
     "text": [
      "Enter the number of residents to be assigned: 5\n",
      "Enter hospital names and capacities (name1,capacity1,name2,capacity2,...):H1,2,H2,4,H3,3\n",
      "Enter the name of resident 1: Bob\n",
      "Enter hospital rankings for Bob (comma-separated):1,2,3\n",
      "Enter the name of resident 2: Jim\n",
      "Enter hospital rankings for Jim (comma-separated):3,1,2\n",
      "Enter the name of resident 3: Dan\n",
      "Enter hospital rankings for Dan (comma-separated):2,2,2\n",
      "Enter the name of resident 4: Sally\n",
      "Enter hospital rankings for Sally (comma-separated):3,2,1\n",
      "Enter the name of resident 5: Mary\n",
      "Enter hospital rankings for Mary (comma-separated):1,1,1\n"
     ]
    },
    {
     "data": {
      "text/html": [
       "<div>\n",
       "<style scoped>\n",
       "    .dataframe tbody tr th:only-of-type {\n",
       "        vertical-align: middle;\n",
       "    }\n",
       "\n",
       "    .dataframe tbody tr th {\n",
       "        vertical-align: top;\n",
       "    }\n",
       "\n",
       "    .dataframe thead th {\n",
       "        text-align: right;\n",
       "    }\n",
       "</style>\n",
       "<table border=\"1\" class=\"dataframe\">\n",
       "  <thead>\n",
       "    <tr style=\"text-align: right;\">\n",
       "      <th></th>\n",
       "      <th>H1</th>\n",
       "      <th>H2</th>\n",
       "      <th>H3</th>\n",
       "    </tr>\n",
       "  </thead>\n",
       "  <tbody>\n",
       "    <tr>\n",
       "      <th>Bob</th>\n",
       "      <td>1</td>\n",
       "      <td>2</td>\n",
       "      <td>3</td>\n",
       "    </tr>\n",
       "    <tr>\n",
       "      <th>Jim</th>\n",
       "      <td>3</td>\n",
       "      <td>1</td>\n",
       "      <td>2</td>\n",
       "    </tr>\n",
       "    <tr>\n",
       "      <th>Dan</th>\n",
       "      <td>2</td>\n",
       "      <td>2</td>\n",
       "      <td>2</td>\n",
       "    </tr>\n",
       "    <tr>\n",
       "      <th>Sally</th>\n",
       "      <td>3</td>\n",
       "      <td>2</td>\n",
       "      <td>1</td>\n",
       "    </tr>\n",
       "    <tr>\n",
       "      <th>Mary</th>\n",
       "      <td>1</td>\n",
       "      <td>1</td>\n",
       "      <td>1</td>\n",
       "    </tr>\n",
       "  </tbody>\n",
       "</table>\n",
       "</div>"
      ],
      "text/plain": [
       "       H1  H2  H3\n",
       "Bob     1   2   3\n",
       "Jim     3   1   2\n",
       "Dan     2   2   2\n",
       "Sally   3   2   1\n",
       "Mary    1   1   1"
      ]
     },
     "metadata": {},
     "output_type": "display_data"
    }
   ],
   "source": [
    "ranks, residents, capacities = get_inputs()"
   ]
  },
  {
   "cell_type": "code",
   "execution_count": 3,
   "metadata": {},
   "outputs": [],
   "source": [
    "cost_matrix, hospital_names = matrix_with_capacities(ranks, capacities)"
   ]
  },
  {
   "cell_type": "markdown",
   "metadata": {},
   "source": [
    "Use Hungarian algorithm to optimally assign each resident to a hospital according to their preferences."
   ]
  },
  {
   "cell_type": "code",
   "execution_count": 4,
   "metadata": {},
   "outputs": [],
   "source": [
    "ans_pos = hungarian_algorithm(cost_matrix.copy())"
   ]
  },
  {
   "cell_type": "code",
   "execution_count": 5,
   "metadata": {},
   "outputs": [],
   "source": [
    "ans, ans_mat = ans_calculation(cost_matrix, ans_pos)"
   ]
  },
  {
   "cell_type": "markdown",
   "metadata": {},
   "source": [
    "Extract each resident's assignment."
   ]
  },
  {
   "cell_type": "code",
   "execution_count": 6,
   "metadata": {},
   "outputs": [
    {
     "name": "stdout",
     "output_type": "stream",
     "text": [
      "Bob is assigned to H1\n",
      "Jim is assigned to H2\n",
      "Dan is assigned to H1\n",
      "Sally is assigned to H3\n",
      "Mary is assigned to H2\n"
     ]
    }
   ],
   "source": [
    "assignment_list(ans_mat, hospital_names, residents)"
   ]
  }
 ],
 "metadata": {
  "colab": {
   "provenance": []
  },
  "kernelspec": {
   "display_name": "Python 3 (ipykernel)",
   "language": "python",
   "name": "python3"
  },
  "language_info": {
   "codemirror_mode": {
    "name": "ipython",
    "version": 3
   },
   "file_extension": ".py",
   "mimetype": "text/x-python",
   "name": "python",
   "nbconvert_exporter": "python",
   "pygments_lexer": "ipython3",
   "version": "3.9.13"
  }
 },
 "nbformat": 4,
 "nbformat_minor": 1
}
